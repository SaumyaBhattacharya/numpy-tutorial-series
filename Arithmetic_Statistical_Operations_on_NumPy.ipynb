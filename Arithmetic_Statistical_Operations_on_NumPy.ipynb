{
 "cells": [
  {
   "cell_type": "markdown",
   "id": "d98d1131",
   "metadata": {},
   "source": [
    "# Arithmetic operations on NumPy Array"
   ]
  },
  {
   "cell_type": "code",
   "execution_count": 1,
   "id": "21fbddc6",
   "metadata": {},
   "outputs": [],
   "source": [
    "import numpy as np"
   ]
  },
  {
   "cell_type": "markdown",
   "id": "98b1894f",
   "metadata": {},
   "source": [
    "### Arithmetic Operations - add(), subtraction(), multiply(), division(), power(), mod()"
   ]
  },
  {
   "cell_type": "code",
   "execution_count": 2,
   "id": "c27f877a",
   "metadata": {},
   "outputs": [
    {
     "name": "stdout",
     "output_type": "stream",
     "text": [
      "[ 4  8  5 11]\n"
     ]
    }
   ],
   "source": [
    "arr_1 = np.array([2,6,3,9])\n",
    "final_arr = arr_1 + 2        #We can add scaler value to all elements of an array.\n",
    "print(final_arr)"
   ]
  },
  {
   "cell_type": "code",
   "execution_count": 3,
   "id": "01911336",
   "metadata": {},
   "outputs": [
    {
     "name": "stdout",
     "output_type": "stream",
     "text": [
      "[10  8  8 10]\n"
     ]
    }
   ],
   "source": [
    "arr_1 = np.array([2,6,3,9])\n",
    "arr_2 = np.array([8,2,5,1])\n",
    "\n",
    "final_arr = arr_1 + arr_2\n",
    "print(final_arr)"
   ]
  },
  {
   "cell_type": "code",
   "execution_count": 4,
   "id": "7362d642",
   "metadata": {},
   "outputs": [
    {
     "name": "stdout",
     "output_type": "stream",
     "text": [
      "[10  8  8 10]\n"
     ]
    }
   ],
   "source": [
    "final_arr = np.add(arr_1, arr_2)\n",
    "print(final_arr)"
   ]
  },
  {
   "cell_type": "code",
   "execution_count": 5,
   "id": "4e23abe1",
   "metadata": {},
   "outputs": [
    {
     "name": "stdout",
     "output_type": "stream",
     "text": [
      "[[12 10 11 16]\n",
      " [17  6 13  6]]\n"
     ]
    }
   ],
   "source": [
    "arr_1 = np.array([[2,6,3,9], [8,2,5,1]])\n",
    "arr_2 = np.array([[9,2,5,3], [8,2,5,1]])\n",
    "arr_3 = np.array([[1,2,3,4], [1,2,3,4]])\n",
    "\n",
    "final_arr = arr_1 + arr_2 + arr_3\n",
    "print(final_arr)"
   ]
  },
  {
   "cell_type": "code",
   "execution_count": 6,
   "id": "a519a81b",
   "metadata": {},
   "outputs": [
    {
     "data": {
      "text/plain": [
       "array([[11,  8,  8, 12],\n",
       "       [16,  4, 10,  2]])"
      ]
     },
     "execution_count": 6,
     "metadata": {},
     "output_type": "execute_result"
    }
   ],
   "source": [
    "final_arr = np.add(arr_1, arr_2, arr_3) #Third array(Arr_3) is not added.\n",
    "final_arr"
   ]
  },
  {
   "cell_type": "markdown",
   "id": "c97891b2",
   "metadata": {},
   "source": [
    "### power()"
   ]
  },
  {
   "cell_type": "code",
   "execution_count": 7,
   "id": "34cb14c2",
   "metadata": {},
   "outputs": [
    {
     "data": {
      "text/plain": [
       "array([ 4, 36,  9, 81])"
      ]
     },
     "execution_count": 7,
     "metadata": {},
     "output_type": "execute_result"
    }
   ],
   "source": [
    "arr_1 = np.array([2,6,3,9])\n",
    "final_arr = arr_1 ** 2       # We can use np.power(arr_1, 2) for the same purose.\n",
    "final_arr"
   ]
  },
  {
   "cell_type": "markdown",
   "id": "ae0eba59",
   "metadata": {},
   "source": [
    "### mod()"
   ]
  },
  {
   "cell_type": "code",
   "execution_count": 8,
   "id": "9ff0fac0",
   "metadata": {},
   "outputs": [
    {
     "data": {
      "text/plain": [
       "array([0, 0, 1, 1], dtype=int32)"
      ]
     },
     "execution_count": 8,
     "metadata": {},
     "output_type": "execute_result"
    }
   ],
   "source": [
    "arr_1 = np.array([2,6,3,9])\n",
    "final_arr = arr_1 % 2       # We can use np.mod(arr_1, 2) for the same purose.\n",
    "final_arr"
   ]
  },
  {
   "cell_type": "markdown",
   "id": "0f5b33e8",
   "metadata": {},
   "source": [
    "### Multiplication of 2D arrays"
   ]
  },
  {
   "cell_type": "code",
   "execution_count": 9,
   "id": "031619c6",
   "metadata": {},
   "outputs": [
    {
     "name": "stdout",
     "output_type": "stream",
     "text": [
      "[[18 12 15 27]\n",
      " [64  4 25  1]]\n"
     ]
    }
   ],
   "source": [
    "arr_1 = np.array([[2,6,3,9], [8,2,5,1]])\n",
    "arr_2 = np.array([[9,2,5,3], [8,2,5,1]])\n",
    "\n",
    "final_arr = arr_1 * arr_2\n",
    "print(final_arr)"
   ]
  },
  {
   "cell_type": "markdown",
   "id": "198451bb",
   "metadata": {},
   "source": [
    "### reciprocal()"
   ]
  },
  {
   "cell_type": "code",
   "execution_count": 10,
   "id": "13ac610f",
   "metadata": {},
   "outputs": [
    {
     "name": "stdout",
     "output_type": "stream",
     "text": [
      "[[0.11111111 0.5        0.2        0.33333334]\n",
      " [0.125      0.5        0.2        1.        ]]\n"
     ]
    }
   ],
   "source": [
    "arr_2 = np.array([[9,2,5,3], [8,2,5,1]], dtype='f')\n",
    "final_arr = np.reciprocal(arr_2)\n",
    "print(final_arr)"
   ]
  },
  {
   "cell_type": "markdown",
   "id": "ff0c10df",
   "metadata": {},
   "source": [
    "### Broadcasting - Ability to perform arithmetic operations on arrays of different shapes"
   ]
  },
  {
   "cell_type": "code",
   "execution_count": 11,
   "id": "3ec29db8",
   "metadata": {},
   "outputs": [
    {
     "ename": "ValueError",
     "evalue": "operands could not be broadcast together with shapes (3,) (2,) ",
     "output_type": "error",
     "traceback": [
      "\u001b[1;31m---------------------------------------------------------------------------\u001b[0m",
      "\u001b[1;31mValueError\u001b[0m                                Traceback (most recent call last)",
      "\u001b[1;32m~\\AppData\\Local\\Temp\\ipykernel_12284\\1728964992.py\u001b[0m in \u001b[0;36m<module>\u001b[1;34m\u001b[0m\n\u001b[0;32m      1\u001b[0m \u001b[0mone_arr\u001b[0m \u001b[1;33m=\u001b[0m \u001b[0mnp\u001b[0m\u001b[1;33m.\u001b[0m\u001b[0marray\u001b[0m\u001b[1;33m(\u001b[0m\u001b[1;33m[\u001b[0m\u001b[1;36m2\u001b[0m\u001b[1;33m,\u001b[0m\u001b[1;36m4\u001b[0m\u001b[1;33m,\u001b[0m\u001b[1;36m6\u001b[0m\u001b[1;33m]\u001b[0m\u001b[1;33m)\u001b[0m\u001b[1;33m\u001b[0m\u001b[1;33m\u001b[0m\u001b[0m\n\u001b[0;32m      2\u001b[0m \u001b[0manother_arr\u001b[0m \u001b[1;33m=\u001b[0m \u001b[0mnp\u001b[0m\u001b[1;33m.\u001b[0m\u001b[0marray\u001b[0m\u001b[1;33m(\u001b[0m\u001b[1;33m[\u001b[0m\u001b[1;36m1\u001b[0m\u001b[1;33m,\u001b[0m\u001b[1;36m2\u001b[0m\u001b[1;33m]\u001b[0m\u001b[1;33m)\u001b[0m\u001b[1;33m\u001b[0m\u001b[1;33m\u001b[0m\u001b[0m\n\u001b[1;32m----> 3\u001b[1;33m \u001b[0mfinal_arr\u001b[0m \u001b[1;33m=\u001b[0m \u001b[0mone_arr\u001b[0m \u001b[1;33m+\u001b[0m \u001b[0manother_arr\u001b[0m\u001b[1;33m\u001b[0m\u001b[1;33m\u001b[0m\u001b[0m\n\u001b[0m\u001b[0;32m      4\u001b[0m \u001b[0mprint\u001b[0m\u001b[1;33m(\u001b[0m\u001b[0mfinal_arr\u001b[0m\u001b[1;33m)\u001b[0m\u001b[1;33m\u001b[0m\u001b[1;33m\u001b[0m\u001b[0m\n",
      "\u001b[1;31mValueError\u001b[0m: operands could not be broadcast together with shapes (3,) (2,) "
     ]
    }
   ],
   "source": [
    "one_arr = np.array([2,4,6])\n",
    "another_arr = np.array([1,2])\n",
    "final_arr = one_arr + another_arr\n",
    "print(final_arr)"
   ]
  },
  {
   "cell_type": "code",
   "execution_count": 12,
   "id": "99ebc911",
   "metadata": {},
   "outputs": [
    {
     "name": "stdout",
     "output_type": "stream",
     "text": [
      "[4 6 8]\n"
     ]
    }
   ],
   "source": [
    "one_arr = np.array([2,4,6])\n",
    "another_arr = np.array([2])\n",
    "final_arr = one_arr + another_arr     # numpy converts 2 to [2,2,2] - smaller array Broadcasting to match larger array    \n",
    "print(final_arr)"
   ]
  },
  {
   "cell_type": "markdown",
   "id": "0cd187ae",
   "metadata": {},
   "source": [
    "# Statistical Operations on NumPy Arrays"
   ]
  },
  {
   "cell_type": "markdown",
   "id": "3fceacad",
   "metadata": {},
   "source": [
    "### Column-wise mean()"
   ]
  },
  {
   "cell_type": "code",
   "execution_count": 13,
   "id": "3a824639",
   "metadata": {},
   "outputs": [
    {
     "name": "stdout",
     "output_type": "stream",
     "text": [
      "[4.75 4.25]\n"
     ]
    }
   ],
   "source": [
    "example_arr = np.array([[9,2,5,3], [8,2,5,2]], dtype='f')\n",
    "\n",
    "result = np.mean(example_arr, axis=1)\n",
    "print(result)"
   ]
  },
  {
   "cell_type": "markdown",
   "id": "d50f49f3",
   "metadata": {},
   "source": [
    "### Row-wise std()"
   ]
  },
  {
   "cell_type": "code",
   "execution_count": 14,
   "id": "ed54463b",
   "metadata": {},
   "outputs": [
    {
     "name": "stdout",
     "output_type": "stream",
     "text": [
      "[0.5 0.  0.  0.5]\n"
     ]
    }
   ],
   "source": [
    "example_arr = np.array([[9,2,5,3], [8,2,5,2]], dtype='f')\n",
    "\n",
    "result = np.std(example_arr, axis=0)\n",
    "print(result)"
   ]
  },
  {
   "cell_type": "code",
   "execution_count": null,
   "id": "7af7103f",
   "metadata": {},
   "outputs": [],
   "source": []
  }
 ],
 "metadata": {
  "kernelspec": {
   "display_name": "Python 3 (ipykernel)",
   "language": "python",
   "name": "python3"
  },
  "language_info": {
   "codemirror_mode": {
    "name": "ipython",
    "version": 3
   },
   "file_extension": ".py",
   "mimetype": "text/x-python",
   "name": "python",
   "nbconvert_exporter": "python",
   "pygments_lexer": "ipython3",
   "version": "3.9.13"
  }
 },
 "nbformat": 4,
 "nbformat_minor": 5
}
