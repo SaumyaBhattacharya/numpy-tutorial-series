{
 "cells": [
  {
   "cell_type": "markdown",
   "id": "09a91f29",
   "metadata": {},
   "source": [
    "# N-Dimensional Arrays in NumPy"
   ]
  },
  {
   "cell_type": "code",
   "execution_count": 2,
   "id": "4095afd1",
   "metadata": {},
   "outputs": [
    {
     "name": "stdout",
     "output_type": "stream",
     "text": [
      "Requirement already satisfied: numpy in c:\\users\\saumyanti\\anaconda3\\lib\\site-packages (1.21.5)Note: you may need to restart the kernel to use updated packages.\n",
      "\n"
     ]
    }
   ],
   "source": [
    "pip install numpy "
   ]
  },
  {
   "cell_type": "code",
   "execution_count": 3,
   "id": "c41db7ad",
   "metadata": {},
   "outputs": [],
   "source": [
    "import numpy as np # import numpy to use it's functions/methods "
   ]
  },
  {
   "cell_type": "markdown",
   "id": "44e77cec",
   "metadata": {},
   "source": [
    "### Option 1: Creating arrays using python lists/tuples"
   ]
  },
  {
   "cell_type": "code",
   "execution_count": 4,
   "id": "ead70072",
   "metadata": {},
   "outputs": [
    {
     "data": {
      "text/plain": [
       "array([2, 5, 7, 9])"
      ]
     },
     "execution_count": 4,
     "metadata": {},
     "output_type": "execute_result"
    }
   ],
   "source": [
    "array = np.array([2,5,7,9], dtype='int32') \n",
    "\n",
    "array"
   ]
  },
  {
   "cell_type": "code",
   "execution_count": 5,
   "id": "af471335",
   "metadata": {},
   "outputs": [
    {
     "data": {
      "text/plain": [
       "dtype('int32')"
      ]
     },
     "execution_count": 5,
     "metadata": {},
     "output_type": "execute_result"
    }
   ],
   "source": [
    "array.dtype"
   ]
  },
  {
   "cell_type": "code",
   "execution_count": 6,
   "id": "b87dbe5d",
   "metadata": {},
   "outputs": [
    {
     "data": {
      "text/plain": [
       "(4,)"
      ]
     },
     "execution_count": 6,
     "metadata": {},
     "output_type": "execute_result"
    }
   ],
   "source": [
    "array.shape"
   ]
  },
  {
   "cell_type": "code",
   "execution_count": 7,
   "id": "bcd23871",
   "metadata": {},
   "outputs": [
    {
     "data": {
      "text/plain": [
       "1"
      ]
     },
     "execution_count": 7,
     "metadata": {},
     "output_type": "execute_result"
    }
   ],
   "source": [
    "array.ndim"
   ]
  },
  {
   "cell_type": "code",
   "execution_count": 8,
   "id": "4a0e5a54",
   "metadata": {},
   "outputs": [
    {
     "data": {
      "text/plain": [
       "array([[ 2,  5,  7,  9],\n",
       "       [ 1,  3,  4, 10]])"
      ]
     },
     "execution_count": 8,
     "metadata": {},
     "output_type": "execute_result"
    }
   ],
   "source": [
    "array_2d = np.array([[2,5,7,9],[1,3,4,10]], dtype='int32') \n",
    "array_2d"
   ]
  },
  {
   "cell_type": "code",
   "execution_count": 9,
   "id": "b4c943c8",
   "metadata": {},
   "outputs": [
    {
     "data": {
      "text/plain": [
       "2"
      ]
     },
     "execution_count": 9,
     "metadata": {},
     "output_type": "execute_result"
    }
   ],
   "source": [
    "array_2d.ndim"
   ]
  },
  {
   "cell_type": "code",
   "execution_count": 10,
   "id": "0f8bb0bf",
   "metadata": {},
   "outputs": [
    {
     "data": {
      "text/plain": [
       "(2, 4)"
      ]
     },
     "execution_count": 10,
     "metadata": {},
     "output_type": "execute_result"
    }
   ],
   "source": [
    "array_2d.shape"
   ]
  },
  {
   "cell_type": "code",
   "execution_count": 11,
   "id": "b41403b5",
   "metadata": {},
   "outputs": [
    {
     "data": {
      "text/plain": [
       "32"
      ]
     },
     "execution_count": 11,
     "metadata": {},
     "output_type": "execute_result"
    }
   ],
   "source": [
    "array_2d.nbytes"
   ]
  },
  {
   "cell_type": "markdown",
   "id": "daec10dc",
   "metadata": {},
   "source": [
    "### Option 2: Creating array using NumPy functions"
   ]
  },
  {
   "cell_type": "code",
   "execution_count": 12,
   "id": "f59fde23",
   "metadata": {},
   "outputs": [
    {
     "data": {
      "text/plain": [
       "array([[0, 0, 0],\n",
       "       [0, 0, 0]], dtype=int32)"
      ]
     },
     "execution_count": 12,
     "metadata": {},
     "output_type": "execute_result"
    }
   ],
   "source": [
    "array_zeros = np.zeros((2,3), dtype='i')\n",
    "array_zeros"
   ]
  },
  {
   "cell_type": "code",
   "execution_count": 13,
   "id": "3455739c",
   "metadata": {},
   "outputs": [
    {
     "data": {
      "text/plain": [
       "array([[1., 1.],\n",
       "       [1., 1.]])"
      ]
     },
     "execution_count": 13,
     "metadata": {},
     "output_type": "execute_result"
    }
   ],
   "source": [
    "array_ones = np.ones((2,2))\n",
    "array_ones"
   ]
  },
  {
   "cell_type": "code",
   "execution_count": 14,
   "id": "0ca87f06",
   "metadata": {},
   "outputs": [
    {
     "data": {
      "text/plain": [
       "array([[7, 7, 7],\n",
       "       [7, 7, 7]])"
      ]
     },
     "execution_count": 14,
     "metadata": {},
     "output_type": "execute_result"
    }
   ],
   "source": [
    "array_sevens = np.full((2,3),7)\n",
    "array_sevens"
   ]
  },
  {
   "cell_type": "code",
   "execution_count": 17,
   "id": "8a5da475",
   "metadata": {},
   "outputs": [
    {
     "name": "stdout",
     "output_type": "stream",
     "text": [
      "[[18 57 39 69 21]\n",
      " [86 39 14 18 42]\n",
      " [21 57 57 65 74]\n",
      " [26 88 61 76 43]]\n"
     ]
    }
   ],
   "source": [
    "array_random = np.random.randint(10,90,(4,5))\n",
    "print(array_random)"
   ]
  },
  {
   "cell_type": "markdown",
   "id": "74252f7c",
   "metadata": {},
   "source": [
    "### Accessing items from an array"
   ]
  },
  {
   "cell_type": "code",
   "execution_count": 18,
   "id": "08455920",
   "metadata": {},
   "outputs": [
    {
     "data": {
      "text/plain": [
       "14"
      ]
     },
     "execution_count": 18,
     "metadata": {},
     "output_type": "execute_result"
    }
   ],
   "source": [
    "array_random[1][2] # Using index"
   ]
  },
  {
   "cell_type": "code",
   "execution_count": 19,
   "id": "8ebedba8",
   "metadata": {},
   "outputs": [
    {
     "data": {
      "text/plain": [
       "array([14, 18])"
      ]
     },
     "execution_count": 19,
     "metadata": {},
     "output_type": "execute_result"
    }
   ],
   "source": [
    "array_random[1, 2:4] # We can use slicing as well"
   ]
  },
  {
   "cell_type": "code",
   "execution_count": 20,
   "id": "35221d36",
   "metadata": {},
   "outputs": [
    {
     "name": "stdout",
     "output_type": "stream",
     "text": [
      "[2 5 7 9]\n"
     ]
    }
   ],
   "source": [
    "print(array)"
   ]
  },
  {
   "cell_type": "code",
   "execution_count": 21,
   "id": "73e5c5a7",
   "metadata": {},
   "outputs": [
    {
     "data": {
      "text/plain": [
       "array([5, 9])"
      ]
     },
     "execution_count": 21,
     "metadata": {},
     "output_type": "execute_result"
    }
   ],
   "source": [
    "array[1::2] # slicing - array[start index: end index: step]"
   ]
  },
  {
   "cell_type": "markdown",
   "id": "865e0162",
   "metadata": {},
   "source": [
    "### Set/change value of an array item"
   ]
  },
  {
   "cell_type": "code",
   "execution_count": 22,
   "id": "dcc57ee9",
   "metadata": {},
   "outputs": [
    {
     "name": "stdout",
     "output_type": "stream",
     "text": [
      "[ 2 10  7  9]\n"
     ]
    }
   ],
   "source": [
    "array[1] = 10 # Use assignment operator for setting the value\n",
    "\n",
    "print(array)"
   ]
  },
  {
   "cell_type": "code",
   "execution_count": 23,
   "id": "57a9108d",
   "metadata": {},
   "outputs": [
    {
     "name": "stdout",
     "output_type": "stream",
     "text": [
      "[[18 57 39 69 21]\n",
      " [86 39 14 18 42]\n",
      " [21 57 57 65 74]\n",
      " [26 88 61 76 43]]\n"
     ]
    }
   ],
   "source": [
    "print(array_random)"
   ]
  },
  {
   "cell_type": "code",
   "execution_count": 24,
   "id": "2b8e7a99",
   "metadata": {},
   "outputs": [
    {
     "name": "stdout",
     "output_type": "stream",
     "text": [
      "[[18 44 39 69 21]\n",
      " [86 39 14 18 42]\n",
      " [21 57 57 65 74]\n",
      " [26 88 61 76 43]]\n"
     ]
    }
   ],
   "source": [
    "array_random[0][1] = 44\n",
    "\n",
    "print(array_random)"
   ]
  },
  {
   "cell_type": "markdown",
   "id": "946a24db",
   "metadata": {},
   "source": [
    "### Copy an array to other array"
   ]
  },
  {
   "cell_type": "code",
   "execution_count": 25,
   "id": "48d593e4",
   "metadata": {},
   "outputs": [
    {
     "name": "stdout",
     "output_type": "stream",
     "text": [
      "[[18 44 39 69 21]\n",
      " [86 39 14 18 42]\n",
      " [21 57 57 65 74]\n",
      " [26 88 61 76 43]]\n"
     ]
    }
   ],
   "source": [
    "array_random_copy = array_random #Shallow copy\n",
    "\n",
    "print(array_random_copy)"
   ]
  },
  {
   "cell_type": "code",
   "execution_count": 26,
   "id": "0776c3af",
   "metadata": {},
   "outputs": [],
   "source": [
    "array_random_copy[0][0] = 0 # Change in 'array_random_copy' will modify the 'array_random'"
   ]
  },
  {
   "cell_type": "code",
   "execution_count": 27,
   "id": "a54684dd",
   "metadata": {},
   "outputs": [
    {
     "name": "stdout",
     "output_type": "stream",
     "text": [
      "[[ 0 44 39 69 21]\n",
      " [86 39 14 18 42]\n",
      " [21 57 57 65 74]\n",
      " [26 88 61 76 43]]\n"
     ]
    }
   ],
   "source": [
    "print(array_random)"
   ]
  },
  {
   "cell_type": "code",
   "execution_count": 28,
   "id": "7fdbe733",
   "metadata": {},
   "outputs": [],
   "source": [
    "array_random_copy = array_random.copy() # Deep copy"
   ]
  },
  {
   "cell_type": "code",
   "execution_count": 29,
   "id": "059a7ce5",
   "metadata": {},
   "outputs": [],
   "source": [
    "array_random_copy[0][1] = 0 # Change in 'array_random_copy' will NOT modify the 'array_random'"
   ]
  },
  {
   "cell_type": "code",
   "execution_count": 30,
   "id": "b593dcb9",
   "metadata": {},
   "outputs": [
    {
     "name": "stdout",
     "output_type": "stream",
     "text": [
      "[[ 0  0 39 69 21]\n",
      " [86 39 14 18 42]\n",
      " [21 57 57 65 74]\n",
      " [26 88 61 76 43]]\n"
     ]
    }
   ],
   "source": [
    "print(array_random_copy)"
   ]
  },
  {
   "cell_type": "code",
   "execution_count": 31,
   "id": "cc308975",
   "metadata": {},
   "outputs": [
    {
     "name": "stdout",
     "output_type": "stream",
     "text": [
      "[[ 0 44 39 69 21]\n",
      " [86 39 14 18 42]\n",
      " [21 57 57 65 74]\n",
      " [26 88 61 76 43]]\n"
     ]
    }
   ],
   "source": [
    "print(array_random)"
   ]
  },
  {
   "cell_type": "code",
   "execution_count": null,
   "id": "6dc22192",
   "metadata": {},
   "outputs": [],
   "source": []
  }
 ],
 "metadata": {
  "kernelspec": {
   "display_name": "Python 3 (ipykernel)",
   "language": "python",
   "name": "python3"
  },
  "language_info": {
   "codemirror_mode": {
    "name": "ipython",
    "version": 3
   },
   "file_extension": ".py",
   "mimetype": "text/x-python",
   "name": "python",
   "nbconvert_exporter": "python",
   "pygments_lexer": "ipython3",
   "version": "3.9.13"
  }
 },
 "nbformat": 4,
 "nbformat_minor": 5
}
