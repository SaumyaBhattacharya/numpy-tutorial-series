{
 "cells": [
  {
   "cell_type": "markdown",
   "id": "33793c57",
   "metadata": {},
   "source": [
    "# Frequently used functions of numpy array"
   ]
  },
  {
   "cell_type": "code",
   "execution_count": null,
   "id": "d0c80d05",
   "metadata": {},
   "outputs": [],
   "source": [
    "import numpy as np"
   ]
  },
  {
   "cell_type": "code",
   "execution_count": null,
   "id": "e323b974",
   "metadata": {},
   "outputs": [],
   "source": [
    "array = np.array([2,4,5,1,4,2,4,9,7])\n",
    "\n",
    "array"
   ]
  },
  {
   "cell_type": "markdown",
   "id": "95aad96d",
   "metadata": {},
   "source": [
    "### Fetching unique elements"
   ]
  },
  {
   "cell_type": "code",
   "execution_count": null,
   "id": "a9a09a59",
   "metadata": {},
   "outputs": [],
   "source": [
    "unique_arr = np.unique(array)\n",
    "\n",
    "print(unique_arr)"
   ]
  },
  {
   "cell_type": "markdown",
   "id": "f2ed66fe",
   "metadata": {},
   "source": [
    "### Sorting an array"
   ]
  },
  {
   "cell_type": "code",
   "execution_count": 5,
   "id": "b6d2b1ea",
   "metadata": {},
   "outputs": [
    {
     "name": "stdout",
     "output_type": "stream",
     "text": [
      "[1 2 2 4 4 4 5 7 9]\n"
     ]
    }
   ],
   "source": [
    "sorted_arr = np.sort(array)\n",
    "\n",
    "print(sorted_arr)"
   ]
  },
  {
   "cell_type": "markdown",
   "id": "f4a06f3a",
   "metadata": {},
   "source": [
    "### Shuffling content of an array"
   ]
  },
  {
   "cell_type": "code",
   "execution_count": 8,
   "id": "062882f6",
   "metadata": {},
   "outputs": [
    {
     "name": "stdout",
     "output_type": "stream",
     "text": [
      "[7 9 2 2 5 1 4 4 4]\n"
     ]
    }
   ],
   "source": [
    "np.random.shuffle(sorted_arr)\n",
    "\n",
    "print(sorted_arr)"
   ]
  },
  {
   "cell_type": "markdown",
   "id": "40b99aeb",
   "metadata": {},
   "source": [
    "### Reshaping an array"
   ]
  },
  {
   "cell_type": "code",
   "execution_count": 9,
   "id": "e4c619d7",
   "metadata": {},
   "outputs": [
    {
     "name": "stdout",
     "output_type": "stream",
     "text": [
      "[2 4 5 1 4 2 4 9 7]\n"
     ]
    }
   ],
   "source": [
    "print(array)"
   ]
  },
  {
   "cell_type": "code",
   "execution_count": 10,
   "id": "7e99e10c",
   "metadata": {},
   "outputs": [
    {
     "name": "stdout",
     "output_type": "stream",
     "text": [
      "[[2 4 5]\n",
      " [1 4 2]\n",
      " [4 9 7]]\n"
     ]
    }
   ],
   "source": [
    "new_arr = np.resize(array,(3,3))\n",
    "\n",
    "print(new_arr)"
   ]
  },
  {
   "cell_type": "code",
   "execution_count": 11,
   "id": "2918096a",
   "metadata": {},
   "outputs": [
    {
     "name": "stdout",
     "output_type": "stream",
     "text": [
      "[2 4 5 1 4 2 4 9 7]\n"
     ]
    }
   ],
   "source": [
    "flattened_arr = np.ravel(new_arr)\n",
    "\n",
    "print(flattened_arr)"
   ]
  },
  {
   "cell_type": "markdown",
   "id": "d6b8ac17",
   "metadata": {},
   "source": [
    "### Searching element(s) from array"
   ]
  },
  {
   "cell_type": "markdown",
   "id": "e12a7b41",
   "metadata": {},
   "source": [
    "#### Linear Search"
   ]
  },
  {
   "cell_type": "code",
   "execution_count": 12,
   "id": "61a9f706",
   "metadata": {},
   "outputs": [
    {
     "data": {
      "text/plain": [
       "(array([1, 4, 6], dtype=int64),)"
      ]
     },
     "execution_count": 12,
     "metadata": {},
     "output_type": "execute_result"
    }
   ],
   "source": [
    "np.where(flattened_arr == 4)"
   ]
  },
  {
   "cell_type": "code",
   "execution_count": 13,
   "id": "1a376f43",
   "metadata": {},
   "outputs": [
    {
     "data": {
      "text/plain": [
       "(array([0, 1, 4, 5, 6], dtype=int64),)"
      ]
     },
     "execution_count": 13,
     "metadata": {},
     "output_type": "execute_result"
    }
   ],
   "source": [
    "np.where(flattened_arr % 2 == 0)"
   ]
  },
  {
   "cell_type": "markdown",
   "id": "575ec27a",
   "metadata": {},
   "source": [
    "#### Binary Search - works only on sorted array"
   ]
  },
  {
   "cell_type": "code",
   "execution_count": 14,
   "id": "f7a4f035",
   "metadata": {},
   "outputs": [
    {
     "data": {
      "text/plain": [
       "3"
      ]
     },
     "execution_count": 14,
     "metadata": {},
     "output_type": "execute_result"
    }
   ],
   "source": [
    "sorted_arr = np.array([2,4,6,8,10])\n",
    "\n",
    "np.searchsorted(sorted_arr, 8)"
   ]
  },
  {
   "cell_type": "markdown",
   "id": "1da41ef7",
   "metadata": {},
   "source": [
    "### Filter an array"
   ]
  },
  {
   "cell_type": "code",
   "execution_count": 15,
   "id": "5c5d7611",
   "metadata": {},
   "outputs": [
    {
     "name": "stdout",
     "output_type": "stream",
     "text": [
      "[ 2  8 10]\n"
     ]
    }
   ],
   "source": [
    "fc = [True, False, False, True, True]\n",
    "\n",
    "filtered_arr = sorted_arr[fc]\n",
    "\n",
    "print(filtered_arr)"
   ]
  },
  {
   "cell_type": "code",
   "execution_count": 16,
   "id": "dbb78622",
   "metadata": {},
   "outputs": [
    {
     "name": "stdout",
     "output_type": "stream",
     "text": [
      "[4 8]\n"
     ]
    }
   ],
   "source": [
    "fc = sorted_arr % 4 == 0\n",
    "\n",
    "filtered_arr = sorted_arr[fc]\n",
    "\n",
    "print(filtered_arr)"
   ]
  },
  {
   "cell_type": "code",
   "execution_count": null,
   "id": "7ede5059",
   "metadata": {},
   "outputs": [],
   "source": []
  }
 ],
 "metadata": {
  "kernelspec": {
   "display_name": "Python 3 (ipykernel)",
   "language": "python",
   "name": "python3"
  },
  "language_info": {
   "codemirror_mode": {
    "name": "ipython",
    "version": 3
   },
   "file_extension": ".py",
   "mimetype": "text/x-python",
   "name": "python",
   "nbconvert_exporter": "python",
   "pygments_lexer": "ipython3",
   "version": "3.9.13"
  }
 },
 "nbformat": 4,
 "nbformat_minor": 5
}
